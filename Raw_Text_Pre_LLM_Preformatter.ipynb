{
  "nbformat": 4,
  "nbformat_minor": 0,
  "metadata": {
    "colab": {
      "provenance": [],
      "collapsed_sections": [
        "N__LsJOCRSkc"
      ]
    },
    "kernelspec": {
      "name": "python3",
      "display_name": "Python 3"
    },
    "language_info": {
      "name": "python"
    }
  },
  "cells": [
    {
      "cell_type": "markdown",
      "source": [
        "#Raw Text Pre-LLM Preformatter\n",
        "\n",
        "This code preformat raw ocr-result text by cleaning and appending word candidates to each token."
      ],
      "metadata": {
        "id": "7FwSqHjEL3wi"
      }
    },
    {
      "cell_type": "code",
      "source": [
        "# Install SymSpell\n",
        "!pip install symspellpy\n",
        "\n",
        "import os\n",
        "import re\n",
        "from pathlib import Path\n",
        "from symspellpy import SymSpell, Verbosity\n",
        "from google.colab import drive\n",
        "\n",
        "# Mount Google Drive\n",
        "drive.mount('/content/drive')"
      ],
      "metadata": {
        "colab": {
          "base_uri": "https://localhost:8080/"
        },
        "id": "Yu9-h6H8JlBa",
        "outputId": "8a20d566-4086-4876-f3a2-f2f43d6aa481"
      },
      "execution_count": null,
      "outputs": [
        {
          "output_type": "stream",
          "name": "stdout",
          "text": [
            "Collecting symspellpy\n",
            "  Downloading symspellpy-6.9.0-py3-none-any.whl.metadata (3.9 kB)\n",
            "Collecting editdistpy>=0.1.3 (from symspellpy)\n",
            "  Downloading editdistpy-0.1.6-cp311-cp311-manylinux_2_5_x86_64.manylinux1_x86_64.manylinux_2_17_x86_64.manylinux2014_x86_64.whl.metadata (6.7 kB)\n",
            "Downloading symspellpy-6.9.0-py3-none-any.whl (2.6 MB)\n",
            "\u001b[2K   \u001b[90m━━━━━━━━━━━━━━━━━━━━━━━━━━━━━━━━━━━━━━━━\u001b[0m \u001b[32m2.6/2.6 MB\u001b[0m \u001b[31m14.4 MB/s\u001b[0m eta \u001b[36m0:00:00\u001b[0m\n",
            "\u001b[?25hDownloading editdistpy-0.1.6-cp311-cp311-manylinux_2_5_x86_64.manylinux1_x86_64.manylinux_2_17_x86_64.manylinux2014_x86_64.whl (158 kB)\n",
            "\u001b[2K   \u001b[90m━━━━━━━━━━━━━━━━━━━━━━━━━━━━━━━━━━━━━━━━\u001b[0m \u001b[32m158.4/158.4 kB\u001b[0m \u001b[31m7.4 MB/s\u001b[0m eta \u001b[36m0:00:00\u001b[0m\n",
            "\u001b[?25hInstalling collected packages: editdistpy, symspellpy\n",
            "Successfully installed editdistpy-0.1.6 symspellpy-6.9.0\n",
            "Mounted at /content/drive\n"
          ]
        }
      ]
    },
    {
      "cell_type": "code",
      "source": [
        "CORPUS_ROOT = '/content/drive/MyDrive/tugas-akhir/korpus-teks/korpus-mentah/korpus-mentah-omdta-5'\n",
        "OUTPUT_ROOT = '/content/drive/MyDrive/tugas-akhir/korpus-teks/korpus-terproses/korpus-symspell-only'"
      ],
      "metadata": {
        "id": "pAKi82woJpu8"
      },
      "execution_count": null,
      "outputs": []
    },
    {
      "cell_type": "code",
      "source": [
        "# Initialize SymSpell\n",
        "sym_spell = SymSpell(max_dictionary_edit_distance=2, prefix_length=7)\n",
        "\n",
        "# This will track all unique words loaded\n",
        "unique_words = set()\n",
        "\n",
        "# Helper to load words from a txt file into SymSpell (if not already added)\n",
        "def load_dict_from_txt(filepath):\n",
        "    with open(filepath, 'r', encoding='utf-8') as file:\n",
        "        for line in file:\n",
        "            word = line.strip().lower()\n",
        "            if word and word not in unique_words:\n",
        "                sym_spell.create_dictionary_entry(word, 1)\n",
        "                unique_words.add(word)\n",
        "\n",
        "# === Load dictionary from multiple sources ===\n",
        "\n",
        "# Load Orthographically-reversed Indonesian Wikipedia Based Dictionary\n",
        "main_dict_folder = \"/content/drive/MyDrive/tugas-akhir/dicts/tokenized-idwiki-dict-reversal-4\"\n",
        "for filename in sorted(os.listdir(main_dict_folder)):\n",
        "    if filename.endswith(\".txt\"):\n",
        "        filepath = os.path.join(main_dict_folder, filename)\n",
        "        load_dict_from_txt(filepath)\n",
        "\n",
        "# Load KBBI dictionary\n",
        "additional_dict_folder = \"/content/drive/MyDrive/tugas-akhir/dicts/dict-kbbi-iv-approx-extract\"\n",
        "for filename in sorted(os.listdir(additional_dict_folder)):\n",
        "    if filename.endswith(\".txt\"):\n",
        "        filepath = os.path.join(additional_dict_folder, filename)\n",
        "        load_dict_from_txt(filepath)\n",
        "\n",
        "# Load dutch dictionary\n",
        "dutch_dict = \"/content/drive/MyDrive/tugas-akhir/dicts/opentaal-dutch-wordlist.txt\"\n",
        "load_dict_from_txt(dutch_dict)\n",
        "\n",
        "# Load english dictionary\n",
        "english_dict = \"/content/drive/MyDrive/tugas-akhir/dicts/english-words.txt\"\n",
        "load_dict_from_txt(english_dict)\n",
        "\n",
        "print(f\"Total unique words added to SymSpell: {len(unique_words)}\")\n"
      ],
      "metadata": {
        "id": "aQkeX3S_JtVx",
        "colab": {
          "base_uri": "https://localhost:8080/"
        },
        "outputId": "e59473a1-2921-43a5-994b-f22087842fc7"
      },
      "execution_count": null,
      "outputs": [
        {
          "output_type": "stream",
          "name": "stdout",
          "text": [
            "Total unique words added to SymSpell: 2755620\n"
          ]
        }
      ]
    },
    {
      "cell_type": "markdown",
      "source": [
        "TODO\n",
        "\n",
        "The preprocessing in correct_text() regarding symbol '2' handling need further improvement"
      ],
      "metadata": {
        "id": "nNO0eG0DHW9l"
      }
    },
    {
      "cell_type": "code",
      "source": [
        "def clean_word(w):\n",
        "    return re.sub(r'[^a-zA-Z]', '', w).lower()\n",
        "\n",
        "def preprocess_text(text):\n",
        "    lines = text.splitlines()\n",
        "    processed_lines = []\n",
        "    i = 0\n",
        "    while i < len(lines):\n",
        "        line = lines[i].rstrip('\\n')\n",
        "\n",
        "        # Check if the current line ends with a dash and there's a next line\n",
        "        while line.endswith('-') and i + 1 < len(lines):\n",
        "\n",
        "            # Remove the dash at the end of the current line\n",
        "            line = line[:-1]\n",
        "\n",
        "            # Remove leading spaces from the next line\n",
        "            next_line = lines[i + 1].lstrip()\n",
        "\n",
        "            # Merge the current line with the next line\n",
        "            line = line + next_line\n",
        "\n",
        "            i += 1  # Skip the next line as it's already merged\n",
        "\n",
        "        # Add the final processed line to the list\n",
        "        processed_lines.append(line)\n",
        "\n",
        "        # Move to the next line\n",
        "        i += 1\n",
        "\n",
        "    # Return the final processed text as one long block of text (with spaces but no newlines)\n",
        "    return ' '.join(processed_lines)  # Joining lines with space, not newline\n",
        "\n",
        "def correct_text(text, max_candidates=10, max_edit_distance=2):\n",
        "    def clean_inner_non_latin(word):\n",
        "        prefix_match = re.match(r'^\\W*', word)\n",
        "        suffix_match = re.match(r'.*?(\\W*)$', word)\n",
        "\n",
        "        prefix = prefix_match.group() if prefix_match else ''\n",
        "        suffix = suffix_match.group(1) if suffix_match else ''\n",
        "\n",
        "        core = word[len(prefix):len(word)-len(suffix) if suffix else None]\n",
        "        cleaned_core = re.sub(r'[^a-zA-Z]', '', core)\n",
        "\n",
        "        return prefix + cleaned_core + suffix\n",
        "\n",
        "    corrected_words = []\n",
        "\n",
        "    for word in text.split():\n",
        "        # Special handling for digit '2' in the middle\n",
        "        if '2' in word[1:-1]:\n",
        "            parts = word.split('2')\n",
        "            if len(parts) == 2 and parts[0].isalpha() and parts[1].isalpha():\n",
        "                left = parts[0].lower()\n",
        "                right = parts[1].lower()\n",
        "\n",
        "                left_suggestions = sym_spell.lookup(left, Verbosity.ALL, max_edit_distance=max_edit_distance)\n",
        "                right_suggestions = sym_spell.lookup(right, Verbosity.ALL, max_edit_distance=max_edit_distance)\n",
        "\n",
        "                left_candidates = [s.term for s in left_suggestions if s.distance <= max_edit_distance][:max_candidates]\n",
        "                right_candidates = [s.term for s in right_suggestions if s.distance <= max_edit_distance][:max_candidates]\n",
        "\n",
        "                if left_candidates or right_candidates:\n",
        "                    left_result = left_candidates[0] if left_candidates else left\n",
        "                    right_result = right_candidates[0] if right_candidates else right\n",
        "                    replacement = f\"[ORI: {word}, CAND: {left_result}2{right_result}]\"\n",
        "                    corrected_words.append(replacement)\n",
        "                else:\n",
        "                    corrected_words.append(word)\n",
        "                continue\n",
        "\n",
        "        # Clean word by removing non-latin characters inside (not prefix/suffix)\n",
        "        word_cleaned = clean_inner_non_latin(word)\n",
        "\n",
        "        match = re.match(r'^([^a-zA-Z]*)([a-zA-Z]+)([^a-zA-Z]*)$', word_cleaned)\n",
        "\n",
        "        if match:\n",
        "            prefix, base_word, suffix = match.groups()\n",
        "            cleaned = base_word.lower()\n",
        "\n",
        "            suggestions = sym_spell.lookup(cleaned, Verbosity.ALL, max_edit_distance=max_edit_distance)\n",
        "            candidates = [s.term for s in suggestions if s.distance <= max_edit_distance][:max_candidates]\n",
        "\n",
        "            if candidates:\n",
        "                replacement = f\"[ORI: {base_word}, CAND: {', '.join(candidates)}]\"\n",
        "                corrected_words.append(f\"{prefix}{replacement}{suffix}\")\n",
        "            else:\n",
        "                corrected_words.append(word)\n",
        "        else:\n",
        "            corrected_words.append(word)  # Leave as-is if still doesn't match\n",
        "\n",
        "    return ' '.join(corrected_words)\n"
      ],
      "metadata": {
        "id": "9qNCRGadJuMY"
      },
      "execution_count": null,
      "outputs": []
    },
    {
      "cell_type": "code",
      "source": [
        "sample_text = \"\"\"pemerintah\n",
        "nenghac api matjam2 soal. Po litiek Belanca. Maaspode. BeJanda. idjalankan. BRAHIM. BARA. Tjikeong. Tjilamaja. eliau. Andjeéran. Mempoenjai djakarta jang pacific. P.K.R.I . lap!op. ADA tg. 24 Djan. C. H. T.-H\n",
        "Tegal. mengirim kawat pro-\n",
        "tes kepada Belanda dengan peran-\n",
        "taraan Menteri Kemakmoeran\n",
        "dan Menteri Loear Negeri Repoc-\n",
        "blik Indonesia dan Konsol Djen-\n",
        "deral Tiongkok serta Thpa Siang\n",
        "Iwee Djakarta atas perlakoean\n",
        "marine Belanda atas kapal2 jang\n",
        "memoeat dan barang import dan\n",
        "export saudagar Tionghoa dilacet\n",
        "antara Tegal dan Tjirebon, Kepa-\n",
        "da Thoa Siang Hwee diminta me-\n",
        "neroeskan protes ini pada Chine-\n",
        "se Chamber of Commerce di Si-\n",
        "ngapofra.\"\"\""
      ],
      "metadata": {
        "id": "qvE24WHnnVm5"
      },
      "execution_count": null,
      "outputs": []
    },
    {
      "cell_type": "code",
      "source": [
        "cleaned_text = preprocess_text(sample_text)\n",
        "print(cleaned_text)"
      ],
      "metadata": {
        "colab": {
          "base_uri": "https://localhost:8080/"
        },
        "id": "1zHw7mGpnWU8",
        "outputId": "40531678-883f-4392-864d-ee0c70ff1c8a"
      },
      "execution_count": null,
      "outputs": [
        {
          "output_type": "stream",
          "name": "stdout",
          "text": [
            "pemerintah nenghac api matjam2 soal. Po litiek Belanca. Maaspode. BeJanda. idjalankan. BRAHIM. BARA. Tjikeong. Tjilamaja. eliau. Andjeéran. Mempoenjai djakarta jang pacific. P.K.R.I . lap!op. ADA tg. 24 Djan. C. H. T.-H Tegal. mengirim kawat protes kepada Belanda dengan perantaraan Menteri Kemakmoeran dan Menteri Loear Negeri Repocblik Indonesia dan Konsol Djenderal Tiongkok serta Thpa Siang Iwee Djakarta atas perlakoean marine Belanda atas kapal2 jang memoeat dan barang import dan export saudagar Tionghoa dilacet antara Tegal dan Tjirebon, Kepada Thoa Siang Hwee diminta meneroeskan protes ini pada Chinese Chamber of Commerce di Singapofra.\n"
          ]
        }
      ]
    },
    {
      "cell_type": "code",
      "source": [
        "corrected_test_text = correct_text(cleaned_text)\n",
        "print(corrected_test_text)"
      ],
      "metadata": {
        "colab": {
          "base_uri": "https://localhost:8080/"
        },
        "id": "Rr-9M20QkTxf",
        "outputId": "7f08391e-c1bb-432d-aa02-f42217e9adeb"
      },
      "execution_count": null,
      "outputs": [
        {
          "output_type": "stream",
          "name": "stdout",
          "text": [
            "[ORI: pemerintah, CAND: pemerintah, pemerinah, pemerinatah, pemerindah, pemerinmtah, pemerinntah, pemerinrtah, pemerinta, pemerintaha, pemerintahg] [ORI: nenghac, CAND: nengahan, benghal, benghar, denghan, enghag, fenghai, fenghao, menghai, menghan, mengha] [ORI: api, CAND: api, aapi, abpi, adpi, aepi, afpi, aipi, akpi, alpi, ampi] [ORI: matjam, CAND: matjam, ematjam, matjama, matjamo, matdjam, matjram, matjham, matajam, majtjam, nmatjam] [ORI: soal, CAND: soal, somal, sowal, soeal, soala, soale, soali, sobal, sohal, sokal]. [ORI: Po, CAND: po, apo, bpo, dpo, epo, fpo, gpo, hpo, ipo, kpo] [ORI: litiek, CAND: titiek, liliek, litjek, litik, itjiek, kritiek, vaitiek, diëtiek, diptiek, ritmiek] [ORI: Belanca, CAND: blanca, belanda, belana, belanfa, belanga, belanta, belanja, bellanca, melancar, pelancar]. [ORI: Maaspode, CAND: maasbode, baasrode, haasrode, manopode, maampoe, maasde, maaskade]. [ORI: BeJanda, CAND: belanda, beranda, bekanda, benanda, bevanda, bejana, betjanda, berjanda, bajandar, begandai]. [ORI: idjalankan, CAND: idjalangan, ddjalankan, djalankan, didjalankan, ddjalanan, djalanan, djalannan, didjlankan, didjalakan, didjalanakan]. [ORI: BRAHIM, CAND: brahim, abrahim, barahim, berahim, birahim, brahima, brahimi, ebrahim, ibrahim, lbrahim]. [ORI: BARA, CAND: bara, abara, baira, baraa, barag, barak, baran, baras, barat, barda]. [ORI: Tjikeong, CAND: tjikeong, tjireong, tjimeong, tjikoeng, tjiegong, tjikoang, tjikon, tjitkong, tjikron, tjiken]. [ORI: Tjilamaja, CAND: tjilamaja, tjilamatan, djilamara, tjalamara, tjalamata, tjalamaj, tjlamanja, tjlamata, tjikamaija, tjinamata]. [ORI: eliau, CAND: beliau, meliau, liau, iliau, elihu, elia, elias, eliab, eliad, eliae]. [ORI: Andjeran, CAND: endjeran, adjeran, andjaran, andjoran, andjoeran, mandjeran, pandjeran, endjera, indjera, nadjera]. [ORI: Mempoenjai, CAND: mempoenjai, mempoenja, mempoendjai, mempoenai, mempoenaji, mempoennjai, mempoenjahi, mempoenjak, mempoenjal, mempoenjap] [ORI: djakarta, CAND: djakarta, djakart, djakartal, djakartaa, djakartan, djakartas, djakarte, djakartia, djakartq, djakartra] [ORI: jang, CAND: jang, ajang, bjang, tjang, djang, ejang, gjang, hjang, ijang, kjang] [ORI: pacific, CAND: pacific, pacifica, pacifico, pacificas, pacificia, pacific's, pacifical, pacificae, pacificos, pacifiek]. [ORI: PKRI, CAND: pkri, bpkri, pakri, pikri, pkpri, pmkri, pekri, pkori, akri, bkri] . [ORI: lapop, CAND: lapop, laptop, apop, wapop, lahop, lapip, lapp, lappo, lapod, lapor]. [ORI: ADA, CAND: ada, aada, abda, adab, adad, adag, adah, adak, adal, adam] [ORI: tg, CAND: tg, atg, btg, tjg, dtg, etg, ftg, gtg, htg, itg]. 24 [ORI: Djan, CAND: djan, adjan, tdjan, dtjan, ddjan, dajan, dejan, dhjan, dijan, dojan]. [ORI: C, CAND: c, ca, ci, cu, cc, cd, cg, cl, cm, co]. [ORI: H, CAND: h, ah, bh, dh, eh, fh, gh, ha, hb, hd]. [ORI: TH, CAND: th, ath, bth, dth, eth, fth, gth, hth, ith, tjh] [ORI: Tegal, CAND: tegal, tegali, teggal, tengal, toegal, tergal, begal, degal, egal, hegal]. [ORI: mengirim, CAND: mengirim, mengiri, mengirik, mengirimi, mengiris, mengirin, mengirip, mengirit, engirim, pengirim] [ORI: kawat, CAND: kawat, kawate, kahwat, kalwat, karwat, kawata, kawati, kawato, klawat, krawat] [ORI: protes, CAND: protes, protjes, proteas, protens, proteos, protesa, protess, protest, prottes, protoes] [ORI: kepada, CAND: kepada, dkepada, keapada, keopada, kepaada, kepadaa, kepadad, kepadan, kepadas, kepadda] [ORI: Belanda, CAND: belanda, belandai, belandan, belandas, belandar, delanda, elanda, melanda, pelanda, oelanda] [ORI: dengan, CAND: dengan, adengan, bdengan, daengan, deangan, deengan, dengaan, dengana, dengang, dengasn] [ORI: perantaraan, CAND: perantaraan, perentaraan, perantaian, perantara, perantaoean, perantaralah, perantauan, pelantaran, pemantarlan, pemantarran] [ORI: Menteri, CAND: menteri, menteria, menteris, menterin, enteri, senteri, manteri, minteri, mneteri, mnteri] [ORI: Kemakmoeran, CAND: kemakmoeran, kemakmoearan, kemakmoera, kemakmoerah, memakmoeran, pemakmoeran, kemakoeran, kemamkmoeran, kemakmoeranan, memakmoerkan] [ORI: dan, CAND: dan, adan, bdan, daan, dain, damn, dana, dane, dang, dani] [ORI: Menteri, CAND: menteri, menteria, menteris, menterin, enteri, senteri, manteri, minteri, mneteri, mnteri] [ORI: Loear, CAND: loear, aloear, kloear, loenar, loetar, loeart, loeara, loeard, loeari, loebar] [ORI: Negeri, CAND: negeri, bnegeri, enegeri, negaeri, negerti, negerai, negerdi, negerii, negerio, negerri] [ORI: Repocblik, CAND: repoeblik, repoblik, repoeblika, repoeblike, repoeblikj, repoblika, repoebliek, repoebli, repoeblia, repoebliki] [ORI: Indonesia, CAND: indonesia, indonesi, indonesian, indonesa, indonesai, indonesaia, indonesea, indonesija, indonesiaa, indonesiah] [ORI: dan, CAND: dan, adan, bdan, daan, dain, damn, dana, dane, dang, dani] [ORI: Konsol, CAND: konsol, konsole, konsoel, donsol, koesol, kosol, kossol, kondol, koniol, konkol] [ORI: Djenderal, CAND: djenderal, djenderah, djendera, djenderak, djenderala, djenderall, djenderan, djenderar, djenderat, djenderl] [ORI: Tiongkok, CAND: tiongkok, tiongko, tiongkokl, tiongkokn, tiongkoko, tiongkom, tiongkoq, tjongkok, toingkok, tongkok] [ORI: serta, CAND: serta, bserta, dserta, nserta, pserta, sertja, serata, sereta, serita, sertab] [ORI: Thpa, CAND: thpa, tahpa, thapa, ahpa, ehpa, hpa, phpa, whpa, tjpa, tapa] [ORI: Siang, CAND: siang, asiang, hsiang, nsiang, sibang, sidang, sieang, silang, saiang, sijang] [ORI: Iwee, CAND: iwene, piwee, awee, bwee, fwee, gwee, hwee, kwee, mwee, owee] [ORI: Djakarta, CAND: djakarta, djakart, djakartal, djakartaa, djakartan, djakartas, djakarte, djakartia, djakartq, djakartra] [ORI: atas, CAND: atas, atjas, agtas, atads, atags, atase, atasi, atlas, atnas, atwas] [ORI: perlakoean, CAND: perlakoean, perlakoeakn, perlakoekan, perlakoeaan, perlakoeak, berlakoean, pelakoean, periakoean, perakoean, perpakoean] [ORI: marine, CAND: marine, amarine, marines, makrine, margine, mariane, marigne, marinel, marinen, marineo] [ORI: Belanda, CAND: belanda, belandai, belandan, belandas, belandar, delanda, elanda, melanda, pelanda, oelanda] [ORI: atas, CAND: atas, atjas, agtas, atads, atags, atase, atasi, atlas, atnas, atwas] [ORI: kapal, CAND: kapal, kapala, kappal, kaapal, kampal, kapakl, kapali, kapalo, karpal, kapaal] [ORI: jang, CAND: jang, ajang, bjang, tjang, djang, ejang, gjang, hjang, ijang, kjang] [ORI: memoeat, CAND: memoeat, memoeati, kemoeat, pemoeat, semoeat, temoeat, momoeat, mamoeat, meloeat, meroeat] [ORI: dan, CAND: dan, adan, bdan, daan, dain, damn, dana, dane, dang, dani] [ORI: barang, CAND: barang, bahrang, baranga, barange, bariang, barnang, barrang, bartang, barwang, bharang] [ORI: import, CAND: import, imports, imsport, importa, importe, timport, mport, isport, inport, impart] [ORI: dan, CAND: dan, adan, bdan, daan, dain, damn, dana, dane, dang, dani] [ORI: export, CAND: export, exporta, exports, exsport, xport, esport, erport, exort, extort, exhort] [ORI: saudagar, CAND: saudagar, sudagar, sadagar, saldaga, saudara, sodagar, soudagur, saagar, samagar, sampagar] [ORI: Tionghoa, CAND: tionghoa, tiongho, tionghoan, tionghok, tionghooa, tionghora, tionghoea, tonghoa, tianghoa, tinghoa] [ORI: dilacet, CAND: dilaoet, lacet, placet, filaret, filaoet, silaoet, vilaret, vilajet, vilaet, wilajet] [ORI: antara, CAND: antara, aantara, anatara, antjara, antarah, antaral, antaran, anntara, anstara, antaraa] [ORI: Tegal, CAND: tegal, tegali, teggal, tengal, toegal, tergal, begal, degal, egal, hegal] [ORI: dan, CAND: dan, adan, bdan, daan, dain, damn, dana, dane, dang, dani] [ORI: Tjirebon, CAND: tjirebon, tjirebo, tjerebon, tjrebon, tjierbon, tjirbon, tjirrebon, tdjirebon, tjirebonan, tjerebos], [ORI: Kepada, CAND: kepada, dkepada, keapada, keopada, kepaada, kepadaa, kepadad, kepadan, kepadas, kepadda] [ORI: Thoa, CAND: thoa, tjhoa, thoha, tahoa, theoa, thoai, thoan, thoas, thoat, thoda] [ORI: Siang, CAND: siang, asiang, hsiang, nsiang, sibang, sidang, sieang, silang, saiang, sijang] [ORI: Hwee, CAND: hwee, ahwee, howee, qhwee, thwee, awee, bwee, fwee, gwee, kwee] [ORI: diminta, CAND: diminta, dimintai, dimintan, dimintak, miminta, siminta, dipinta, dimnita, dimita, diminea] [ORI: meneroeskan, CAND: meneroeskan, meneroesan, meneroekan, meneroesakan, meneroeska, meneroeskaan, neneroeskan, menoeroeskan, meneroeka, meneroeskakan] [ORI: protes, CAND: protes, protjes, proteas, protens, proteos, protesa, protess, protest, prottes, protoes] [ORI: ini, CAND: ini, aini, bini, dini, eini, fini, gini, hini, ibni, igni] [ORI: pada, CAND: pada, apada, dpada, epada, ipada, kpada, lpada, mpada, npada, opada] [ORI: Chinese, CAND: chinese, chinse, chinees, chinee, achinese, chines, chinesery, chinese's, chintses, chinsed] [ORI: Chamber, CAND: chamber, chambers, hamber, camber, clamber, chaber, champer, chamfer, chamber's, chambered] [ORI: of, CAND: of, aof, bof, dof, eof, fof, gof, hof, iof, kof] [ORI: Commerce, CAND: commerce, commercie, commerced, commerces, commercer, commence, commerge, commerce's, commercia, commenced] [ORI: di, CAND: di, adi, bdi, dai, dbi, ddi, dei, dfi, dgi, dhi] [ORI: Singapofra, CAND: singapoera, singapora, singapore, singapoer, singapoire, singapoear, singapoeran, singapoere, ingapoera, lingapoera].\n"
          ]
        }
      ]
    },
    {
      "cell_type": "code",
      "source": [
        "for root, dirs, files in os.walk(CORPUS_ROOT):\n",
        "    # Determine relative path from root\n",
        "    rel_path = os.path.relpath(root, CORPUS_ROOT)\n",
        "    output_dir = os.path.join(OUTPUT_ROOT, rel_path)\n",
        "    os.makedirs(output_dir, exist_ok=True)\n",
        "\n",
        "    for filename in files:\n",
        "        file_path = os.path.join(root, filename)\n",
        "\n",
        "        if filename.startswith(\".partition\"):\n",
        "            # Directly copy the original .partition text\n",
        "            with open(file_path, 'r', encoding='utf-8') as f:\n",
        "                partition_text = f.read()\n",
        "\n",
        "            # Write the original partition text to the output directory\n",
        "            output_path = os.path.join(output_dir, filename)\n",
        "            with open(output_path, 'w', encoding='utf-8') as f:\n",
        "                f.write(partition_text)\n",
        "\n",
        "        elif filename.startswith(\"block\"):\n",
        "            # Preprocess and correct the block text\n",
        "            with open(file_path, 'r', encoding='utf-8') as f:\n",
        "                original_text = f.read()\n",
        "\n",
        "            preprocessed_text = preprocess_text(original_text)\n",
        "            corrected_text = correct_text(preprocessed_text)\n",
        "\n",
        "            # Write the corrected block text to the output directory\n",
        "            output_path = os.path.join(output_dir, filename)\n",
        "            with open(output_path, 'w', encoding='utf-8') as f:\n",
        "                f.write(corrected_text)"
      ],
      "metadata": {
        "id": "Wi-MuQ1uGaC0"
      },
      "execution_count": null,
      "outputs": []
    }
  ]
}